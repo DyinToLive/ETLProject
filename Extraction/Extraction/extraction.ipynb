{
 "cells": [
  {
   "cell_type": "code",
   "execution_count": 10,
   "metadata": {},
   "outputs": [
    {
     "name": "stdout",
     "output_type": "stream",
     "text": [
      "C:\\Users\\00gun\\Desktop\\Extraction\\example1.csv\n",
      "         Date   Open   High    Low  Close  Adj Close   Volume\n",
      "0  2017-01-03  15.11  15.30  15.03  15.26  12.826453  7462400\n",
      "1  2017-01-04  15.80  15.98  15.60  15.96  13.414824  7671900\n",
      "\n",
      "           Date       Open   High    Low  Close  Adj Close   Volume\n",
      "1    2017-01-04  15.800000  15.98  15.60  15.96  13.414824  7671900\n",
      "7    2017-01-12  15.810000  15.84  15.47  15.62  13.129044  4250200\n",
      "8    2017-01-13  16.040001  16.17  15.79  15.86  13.330769  4640000\n",
      "9    2017-01-17  15.910000  15.92  15.46  15.49  13.019773  4569100\n",
      "16   2017-01-26  15.850000  15.97  15.78  15.84  13.313960  3860000\n",
      "..          ...        ...    ...    ...    ...        ...      ...\n",
      "399  2018-08-03  15.830000  15.88  15.78  15.79  14.636528  2253500\n",
      "401  2018-08-07  15.810000  15.94  15.75  15.77  14.617990  2149000\n",
      "432  2018-09-20  15.900000  15.95  15.81  15.87  14.710682  3583500\n",
      "433  2018-09-21  15.980000  15.99  15.87  15.94  14.775569  2396100\n",
      "434  2018-09-24  15.950000  15.97  15.68  15.69  14.543832  1402300\n",
      "\n",
      "[169 rows x 7 columns]\n",
      "\n",
      "         Date   Open   High    Low  Close  Adj Close   Volume\n",
      "1  2017-01-04  15.80  15.98  15.60  15.96  13.414824  7671900\n",
      "7  2017-01-12  15.81  15.84  15.47  15.62  13.129044  4250200\n"
     ]
    }
   ],
   "source": [
    "import pandas as pd\n",
    "\n",
    "#For generalized filepath when putting CSV to folder\n",
    "import pathlib\n",
    "\n",
    "\n",
    "\n",
    "path = pathlib.Path.home() / 'Desktop' / 'Extraction' /'example1.csv'\n",
    "print(path)\n",
    "\n",
    "banks = pd.read_csv('CS.csv')\n",
    "\n",
    "banks_df = pd.DataFrame(banks)\n",
    "\n",
    "#Example One\n",
    "#Extracting data from a single table\n",
    "#Both datasets chosen are from Kaggle \n",
    "\n",
    "#This is the pandas equivalent of a SELECT clause, takes the first two queries from the banks csv file\n",
    "output1 = banks_df.head(2)\n",
    "print(output1)\n",
    "print('')\n",
    "#This is the pandas equivalent of a WHERE clause, where all values in the Open column are greater than 15.8\n",
    "output2 = banks_df[banks_df['Open'] > 15.8]\n",
    "print(output2)\n",
    "print('')\n",
    "# Pandas equivalent of a SQL extraction from a single table \n",
    "output3 = banks_df[banks_df['Open'] > 15.8].head(2)\n",
    "print(output3)\n",
    "\n",
    "\n",
    "output3.to_csv(path)\n",
    "\n"
   ]
  },
  {
   "cell_type": "code",
   "execution_count": 9,
   "metadata": {},
   "outputs": [
    {
     "name": "stdout",
     "output_type": "stream",
     "text": [
      "          Date   Open   High    Low  Close  Adj Close      Volume hour  italy  \\\n",
      "1   2017-01-04  15.80  15.98  15.60  15.96  13.414824   7671900.0  NaN    NaN   \n",
      "10  2017-01-18  15.01  15.31  14.80  15.30  12.860074  12838800.0  NaN    NaN   \n",
      "25  2017-02-08  14.37  14.55  14.15  14.50  12.187652   7814400.0  NaN    NaN   \n",
      "53  2017-03-21  15.57  15.59  14.90  14.96  12.574295   9883500.0  NaN    NaN   \n",
      "55  2017-03-23  14.91  14.96  14.39  14.57  12.246488  15493100.0  NaN    NaN   \n",
      "\n",
      "    belgium  spain  uk  germany  \n",
      "1       NaN    NaN NaN      NaN  \n",
      "10      NaN    NaN NaN      NaN  \n",
      "25      NaN    NaN NaN      NaN  \n",
      "53      NaN    NaN NaN      NaN  \n",
      "55      NaN    NaN NaN      NaN  \n"
     ]
    }
   ],
   "source": [
    "import pandas as pd\n",
    "import pathlib\n",
    "\n",
    "banks = pd.read_csv('CS.csv')\n",
    "electric = pd.read_csv('electricity_dah_prices.csv')\n",
    "\n",
    "banks_df = pd.DataFrame(banks)\n",
    "electric_df = pd.DataFrame(electric)\n",
    "path = pathlib.Path.home() / 'Desktop' / 'Extraction' / 'example2.csv'\n",
    "\n",
    "#Example Two\n",
    "#Extracting data from multiple tables\n",
    "\n",
    "\n",
    "#renaming columns to have a common key to join tables\n",
    "electric_df.rename(columns = {'date':'Date', 'france':'Open'}, inplace = True)\n",
    "\n",
    "#since both tables are from completely different datasets I used an outer join to merge\n",
    "combine_df = pd.merge(left = banks_df, right = electric_df, how = 'outer')\n",
    "\n",
    "#A SQL SELECT and WHERE clause as demonstrated from example one to extract data.\n",
    "output4 = combine_df[combine_df['Volume'] > 7500000].head(5)\n",
    "print(output4)\n",
    "\n",
    "#The NaN values are caused by incompatible data types from the datasets\n",
    "output4.to_csv(path, na_rep= 'Unknown')\n",
    "\n",
    "\n"
   ]
  }
 ],
 "metadata": {
  "kernelspec": {
   "display_name": "Python 3",
   "language": "python",
   "name": "python3"
  },
  "language_info": {
   "codemirror_mode": {
    "name": "ipython",
    "version": 3
   },
   "file_extension": ".py",
   "mimetype": "text/x-python",
   "name": "python",
   "nbconvert_exporter": "python",
   "pygments_lexer": "ipython3",
   "version": "3.10.10"
  },
  "orig_nbformat": 4
 },
 "nbformat": 4,
 "nbformat_minor": 2
}
